{
 "cells": [
  {
   "cell_type": "code",
   "execution_count": 1,
   "id": "62872a5e",
   "metadata": {},
   "outputs": [],
   "source": [
    "import os\n",
    "import csv as c\n",
    "import pandas as pd\n",
    "import numpy as np"
   ]
  },
  {
   "cell_type": "code",
   "execution_count": null,
   "id": "9c45599e",
   "metadata": {},
   "outputs": [],
   "source": [
    "Stats_data = \"schools_complete.csv\"\n",
    "students_data_path = \"/Users/amarrai/Desktop/pandas-challenge/Resources/students_complete.csv\""
   ]
  }
 ],
 "metadata": {
  "kernelspec": {
   "display_name": "Python 3 (ipykernel)",
   "language": "python",
   "name": "python3"
  },
  "language_info": {
   "codemirror_mode": {
    "name": "ipython",
    "version": 3
   },
   "file_extension": ".py",
   "mimetype": "text/x-python",
   "name": "python",
   "nbconvert_exporter": "python",
   "pygments_lexer": "ipython3",
   "version": "3.9.12"
  }
 },
 "nbformat": 4,
 "nbformat_minor": 5
}
